{
 "cells": [
  {
   "cell_type": "code",
   "execution_count": 1,
   "metadata": {},
   "outputs": [],
   "source": [
    "import pandas as pd\n",
    "import numpy as np\n",
    "\n",
    "from sklearn.model_selection import train_test_split\n",
    "from sklearn.preprocessing import StandardScaler\n",
    "from sklearn.metrics import accuracy_score, balanced_accuracy_score, f1_score"
   ]
  },
  {
   "cell_type": "markdown",
   "metadata": {},
   "source": [
    "### winequality-white dataset"
   ]
  },
  {
   "cell_type": "code",
   "execution_count": 2,
   "metadata": {},
   "outputs": [
    {
     "data": {
      "text/plain": [
       "Index(['fixed acidity', 'volatile acidity', 'citric acid', 'residual sugar',\n",
       "       'chlorides', 'free sulfur dioxide', 'total sulfur dioxide', 'density',\n",
       "       'pH', 'sulphates', 'alcohol', 'quality'],\n",
       "      dtype='object')"
      ]
     },
     "execution_count": 2,
     "metadata": {},
     "output_type": "execute_result"
    }
   ],
   "source": [
    "path = \"svm/winequality-white.csv\"\n",
    "data = pd.read_csv(path, sep=\";\")\n",
    "#print(data.describe())\n",
    "#print(data[\"quality\"].value_counts().sort_index())\n",
    "data.columns"
   ]
  },
  {
   "cell_type": "code",
   "execution_count": 3,
   "metadata": {},
   "outputs": [],
   "source": [
    "# Create binary categories low/high wine quality\n",
    "data[\"quality\"] = np.where(data[\"quality\"] <= 6, -1, 1)\n",
    "\n",
    "# Train/Test split\n",
    "X, y = data.drop(\"quality\", axis=1), data[\"quality\"]\n",
    "X_train, X_test, y_train, y_test = train_test_split(X, y, test_size=0.3, random_state=10)"
   ]
  },
  {
   "cell_type": "code",
   "execution_count": 5,
   "metadata": {},
   "outputs": [],
   "source": [
    "# Standardize the features\n",
    "scaler = StandardScaler()\n",
    "X_train = scaler.fit_transform(X_train)  # Fit on training data and transform\n",
    "X_test = scaler.transform(X_test) "
   ]
  },
  {
   "cell_type": "code",
   "execution_count": 26,
   "metadata": {},
   "outputs": [
    {
     "data": {
      "text/plain": [
       "(3428, 11)"
      ]
     },
     "execution_count": 26,
     "metadata": {},
     "output_type": "execute_result"
    }
   ],
   "source": [
    "X_train.shape"
   ]
  },
  {
   "cell_type": "markdown",
   "metadata": {},
   "source": [
    "### Performance"
   ]
  },
  {
   "cell_type": "code",
   "execution_count": 7,
   "metadata": {},
   "outputs": [],
   "source": [
    "import sys\n",
    "import os\n",
    "sys.path.append(os.path.abspath('src'))"
   ]
  },
  {
   "cell_type": "code",
   "execution_count": 8,
   "metadata": {},
   "outputs": [],
   "source": [
    "from src.approximations import RandomFourierFeatures, NystromApproximation\n",
    "from src.tasks import KernelRidgeRegression\n",
    "from src.utils import *"
   ]
  },
  {
   "cell_type": "code",
   "execution_count": 9,
   "metadata": {},
   "outputs": [],
   "source": [
    "from sklearn.preprocessing import StandardScaler\n",
    "from sklearn.model_selection import train_test_split\n",
    "from sklearn.svm import SVC\n",
    "from sklearn.metrics import accuracy_score, classification_report"
   ]
  },
  {
   "cell_type": "code",
   "execution_count": 10,
   "metadata": {},
   "outputs": [],
   "source": [
    "import time\n",
    "from memory_profiler import memory_usage"
   ]
  },
  {
   "cell_type": "code",
   "execution_count": 11,
   "metadata": {},
   "outputs": [],
   "source": [
    "def measure_performances(func, *args, **kwargs):  # doest not allow the acces to the output of the function\n",
    "    \"\"\"\n",
    "    Measures both memory usage and execution time of a function.\n",
    "    \n",
    "    Parameters:\n",
    "    func: The function to execute.\n",
    "    *args: Positional arguments for the function.\n",
    "    **kwargs: Keyword arguments for the function.\n",
    "    \n",
    "    Returns:\n",
    "    A tuple (memory_growth, execution_time):\n",
    "        - memory_growth: Peak memory used by the function (in MiB).\n",
    "        - execution_time: Time taken to execute the function (in seconds).\n",
    "    \"\"\"\n",
    "    start_time = time.time()  # Record the start time\n",
    "    mem_usage, result = memory_usage((func, args, kwargs), retval=True)  # Measure memory usage\n",
    "    execution_time = time.time() - start_time  # Calculate elapsed time\n",
    "    memory_growth = max(mem_usage) - min(mem_usage)  # Calculate memory growth\n",
    "    return memory_growth, execution_time, result"
   ]
  },
  {
   "cell_type": "code",
   "execution_count": 12,
   "metadata": {},
   "outputs": [],
   "source": [
    "def profile_function(func, *args, **kwargs):\n",
    "    \"\"\"\n",
    "    Profiles memory usage of a function and captures its return value.\n",
    "    \n",
    "    :param func: The function to profile.\n",
    "    :param args: Positional arguments for the function.\n",
    "    :param kwargs: Keyword arguments for the function.\n",
    "    :return: Tuple of (memory_usage_list, function_result).\n",
    "    \"\"\"\n",
    "    result_container = {}\n",
    "\n",
    "    def wrapper():\n",
    "        # Call the function and store the result in the container\n",
    "        result_container['result'] = func(*args, **kwargs)\n",
    "\n",
    "    # Monitor memory usage while executing the wrapper\n",
    "    start_time = time.time()\n",
    "    mem_usage = memory_usage(wrapper, retval=True, max_usage=True)\n",
    "    execution_time = time.time() - start_time\n",
    "\n",
    "    print(\"mem_usage\", mem_usage)\n",
    "\n",
    "    memory_growth = max(mem_usage) - min(mem_usage)\n",
    "    return memory_growth, execution_time, result_container['result']"
   ]
  },
  {
   "cell_type": "code",
   "execution_count": 13,
   "metadata": {},
   "outputs": [],
   "source": [
    "# Define a function to measure performance and store results in a DataFrame\n",
    "def measure_and_store_performance(model_func, params, param_name=\"Number of components\", model_name = None):\n",
    "    results = []\n",
    "    for param in params:\n",
    "        memory_growth, execution_time, scores = measure_performances(model_func, param)\n",
    "        accuracy, balanced_accuracy, f1 = scores[0], scores[1], scores[2]\n",
    "        results.append({\n",
    "            'Model' : f\"{model_name}\",\n",
    "            f\"{param_name}\": \"=\" + str(param),\n",
    "            'Clock Time (seconds)': execution_time,\n",
    "            'Memory Usage (MiB)': memory_growth,\n",
    "            'Accuracy': float(accuracy),\n",
    "            'Balanced Accuracy': float(balanced_accuracy),\n",
    "            'F1 Score': float(f1)\n",
    "        })\n",
    "    return pd.DataFrame(results)"
   ]
  },
  {
   "cell_type": "code",
   "execution_count": 14,
   "metadata": {},
   "outputs": [],
   "source": [
    "def run_nystrom_model(n_components):\n",
    "    # Nyström approximation    \n",
    "    nystroem = NystromApproximation(kernel='rbf', gamma=1, n_components=n_components, random_state=42)\n",
    "\n",
    "    X_train_nystroem = nystroem.fit_transform(X_train)\n",
    "    X_test_nystroem = nystroem.transform(X_test)\n",
    "\n",
    "    svm_nystrom = SVC(kernel='linear', C=1.0, random_state=42)\n",
    "    svm_nystrom.fit(X_train_nystroem, y_train)\n",
    "\n",
    "    y_pred_nystrom = svm_nystrom.predict(X_test_nystroem)\n",
    "\n",
    "    return accuracy_score(y_test, y_pred_nystrom), balanced_accuracy_score(y_test, y_pred_nystrom), f1_score(y_test, y_pred_nystrom)"
   ]
  },
  {
   "cell_type": "code",
   "execution_count": null,
   "metadata": {},
   "outputs": [],
   "source": [
    "def run_nystrom_baseline(n_components):\n",
    "    from sklearn.kernel_approximation import Nystroem\n",
    "    # Nyström approximation    \n",
    "    nystroem = Nystroem(n_components=n_components, random_state=42)\n",
    "    X_train_nystroem = nystroem.fit_transform(X_train)\n",
    "    X_test_nystroem = nystroem.transform(X_test)\n",
    "\n",
    "    svm_nystrom = SVC(kernel='linear', C=1.0, random_state=42)\n",
    "    svm_nystrom.fit(X_train_nystroem, y_train)\n",
    "\n",
    "    y_pred_nystrom = svm_nystrom.predict(X_test_nystroem)\n",
    "\n",
    "    return accuracy_score(y_test, y_pred_nystrom), balanced_accuracy_score(y_test, y_pred_nystrom), f1_score(y_test, y_pred_nystrom)"
   ]
  },
  {
   "cell_type": "code",
   "execution_count": 15,
   "metadata": {},
   "outputs": [],
   "source": [
    "def run_rff_model(n_components):\n",
    "    rff = RandomFourierFeatures(n_components=n_components, gamma=1.0, kernel='rbf', random_state=42)\n",
    "    X_train_rff = rff.fit_transform(X_train)\n",
    "    X_test_rff = rff.transform(X_test)\n",
    "\n",
    "    svm_rff = SVC(kernel='linear', C=1.0, random_state=42)\n",
    "    svm_rff.fit(X_train_rff, y_train)\n",
    "    y_pred_rff = svm_rff.predict(X_test_rff)\n",
    "\n",
    "    return accuracy_score(y_test, y_pred_rff), balanced_accuracy_score(y_test, y_pred_rff), f1_score(y_test, y_pred_rff)"
   ]
  },
  {
   "cell_type": "code",
   "execution_count": 16,
   "metadata": {},
   "outputs": [],
   "source": [
    "p_values = [1, 10, 100, 1000, 3428]\n",
    "nytrsom_df = measure_and_store_performance(run_nystrom_model, p_values, model_name=\"Nystrom\")"
   ]
  },
  {
   "cell_type": "code",
   "execution_count": 17,
   "metadata": {},
   "outputs": [
    {
     "data": {
      "text/html": [
       "<div>\n",
       "<style scoped>\n",
       "    .dataframe tbody tr th:only-of-type {\n",
       "        vertical-align: middle;\n",
       "    }\n",
       "\n",
       "    .dataframe tbody tr th {\n",
       "        vertical-align: top;\n",
       "    }\n",
       "\n",
       "    .dataframe thead th {\n",
       "        text-align: right;\n",
       "    }\n",
       "</style>\n",
       "<table border=\"1\" class=\"dataframe\">\n",
       "  <thead>\n",
       "    <tr style=\"text-align: right;\">\n",
       "      <th></th>\n",
       "      <th>Model</th>\n",
       "      <th>Number of components</th>\n",
       "      <th>Clock Time (seconds)</th>\n",
       "      <th>Memory Usage (MiB)</th>\n",
       "      <th>Accuracy</th>\n",
       "      <th>Balanced Accuracy</th>\n",
       "      <th>F1 Score</th>\n",
       "    </tr>\n",
       "  </thead>\n",
       "  <tbody>\n",
       "    <tr>\n",
       "      <th>0</th>\n",
       "      <td>Nystrom</td>\n",
       "      <td>=1</td>\n",
       "      <td>0.290232</td>\n",
       "      <td>16.769531</td>\n",
       "      <td>0.787075</td>\n",
       "      <td>0.500000</td>\n",
       "      <td>0.000000</td>\n",
       "    </tr>\n",
       "    <tr>\n",
       "      <th>1</th>\n",
       "      <td>Nystrom</td>\n",
       "      <td>=10</td>\n",
       "      <td>0.279144</td>\n",
       "      <td>8.503906</td>\n",
       "      <td>0.787075</td>\n",
       "      <td>0.500000</td>\n",
       "      <td>0.000000</td>\n",
       "    </tr>\n",
       "    <tr>\n",
       "      <th>2</th>\n",
       "      <td>Nystrom</td>\n",
       "      <td>=100</td>\n",
       "      <td>2.130659</td>\n",
       "      <td>43.105469</td>\n",
       "      <td>0.795238</td>\n",
       "      <td>0.520335</td>\n",
       "      <td>0.079511</td>\n",
       "    </tr>\n",
       "    <tr>\n",
       "      <th>3</th>\n",
       "      <td>Nystrom</td>\n",
       "      <td>=1000</td>\n",
       "      <td>27.548565</td>\n",
       "      <td>86.289062</td>\n",
       "      <td>0.821088</td>\n",
       "      <td>0.595021</td>\n",
       "      <td>0.323907</td>\n",
       "    </tr>\n",
       "    <tr>\n",
       "      <th>4</th>\n",
       "      <td>Nystrom</td>\n",
       "      <td>=3428</td>\n",
       "      <td>136.362989</td>\n",
       "      <td>626.566406</td>\n",
       "      <td>0.868027</td>\n",
       "      <td>0.723889</td>\n",
       "      <td>0.604082</td>\n",
       "    </tr>\n",
       "  </tbody>\n",
       "</table>\n",
       "</div>"
      ],
      "text/plain": [
       "     Model Number of components  Clock Time (seconds)  Memory Usage (MiB)  \\\n",
       "0  Nystrom                   =1              0.290232           16.769531   \n",
       "1  Nystrom                  =10              0.279144            8.503906   \n",
       "2  Nystrom                 =100              2.130659           43.105469   \n",
       "3  Nystrom                =1000             27.548565           86.289062   \n",
       "4  Nystrom                =3428            136.362989          626.566406   \n",
       "\n",
       "   Accuracy  Balanced Accuracy  F1 Score  \n",
       "0  0.787075           0.500000  0.000000  \n",
       "1  0.787075           0.500000  0.000000  \n",
       "2  0.795238           0.520335  0.079511  \n",
       "3  0.821088           0.595021  0.323907  \n",
       "4  0.868027           0.723889  0.604082  "
      ]
     },
     "execution_count": 17,
     "metadata": {},
     "output_type": "execute_result"
    }
   ],
   "source": [
    "nytrsom_df"
   ]
  },
  {
   "cell_type": "code",
   "execution_count": 18,
   "metadata": {},
   "outputs": [],
   "source": [
    "rff_df = measure_and_store_performance(run_rff_model, p_values, model_name=\"RFF\")"
   ]
  },
  {
   "cell_type": "code",
   "execution_count": 19,
   "metadata": {},
   "outputs": [
    {
     "data": {
      "text/html": [
       "<div>\n",
       "<style scoped>\n",
       "    .dataframe tbody tr th:only-of-type {\n",
       "        vertical-align: middle;\n",
       "    }\n",
       "\n",
       "    .dataframe tbody tr th {\n",
       "        vertical-align: top;\n",
       "    }\n",
       "\n",
       "    .dataframe thead th {\n",
       "        text-align: right;\n",
       "    }\n",
       "</style>\n",
       "<table border=\"1\" class=\"dataframe\">\n",
       "  <thead>\n",
       "    <tr style=\"text-align: right;\">\n",
       "      <th></th>\n",
       "      <th>Model</th>\n",
       "      <th>Number of components</th>\n",
       "      <th>Clock Time (seconds)</th>\n",
       "      <th>Memory Usage (MiB)</th>\n",
       "      <th>Accuracy</th>\n",
       "      <th>Balanced Accuracy</th>\n",
       "      <th>F1 Score</th>\n",
       "    </tr>\n",
       "  </thead>\n",
       "  <tbody>\n",
       "    <tr>\n",
       "      <th>0</th>\n",
       "      <td>RFF</td>\n",
       "      <td>=1</td>\n",
       "      <td>0.225449</td>\n",
       "      <td>0.000000</td>\n",
       "      <td>0.787075</td>\n",
       "      <td>0.500000</td>\n",
       "      <td>0.000000</td>\n",
       "    </tr>\n",
       "    <tr>\n",
       "      <th>1</th>\n",
       "      <td>RFF</td>\n",
       "      <td>=10</td>\n",
       "      <td>0.268647</td>\n",
       "      <td>0.003906</td>\n",
       "      <td>0.787075</td>\n",
       "      <td>0.500000</td>\n",
       "      <td>0.000000</td>\n",
       "    </tr>\n",
       "    <tr>\n",
       "      <th>2</th>\n",
       "      <td>RFF</td>\n",
       "      <td>=100</td>\n",
       "      <td>0.329239</td>\n",
       "      <td>0.023438</td>\n",
       "      <td>0.787075</td>\n",
       "      <td>0.500000</td>\n",
       "      <td>0.000000</td>\n",
       "    </tr>\n",
       "    <tr>\n",
       "      <th>3</th>\n",
       "      <td>RFF</td>\n",
       "      <td>=1000</td>\n",
       "      <td>4.610463</td>\n",
       "      <td>70.644531</td>\n",
       "      <td>0.814966</td>\n",
       "      <td>0.616768</td>\n",
       "      <td>0.384615</td>\n",
       "    </tr>\n",
       "    <tr>\n",
       "      <th>4</th>\n",
       "      <td>RFF</td>\n",
       "      <td>=3428</td>\n",
       "      <td>16.361624</td>\n",
       "      <td>179.101562</td>\n",
       "      <td>0.842857</td>\n",
       "      <td>0.663619</td>\n",
       "      <td>0.487805</td>\n",
       "    </tr>\n",
       "  </tbody>\n",
       "</table>\n",
       "</div>"
      ],
      "text/plain": [
       "  Model Number of components  Clock Time (seconds)  Memory Usage (MiB)  \\\n",
       "0   RFF                   =1              0.225449            0.000000   \n",
       "1   RFF                  =10              0.268647            0.003906   \n",
       "2   RFF                 =100              0.329239            0.023438   \n",
       "3   RFF                =1000              4.610463           70.644531   \n",
       "4   RFF                =3428             16.361624          179.101562   \n",
       "\n",
       "   Accuracy  Balanced Accuracy  F1 Score  \n",
       "0  0.787075           0.500000  0.000000  \n",
       "1  0.787075           0.500000  0.000000  \n",
       "2  0.787075           0.500000  0.000000  \n",
       "3  0.814966           0.616768  0.384615  \n",
       "4  0.842857           0.663619  0.487805  "
      ]
     },
     "execution_count": 19,
     "metadata": {},
     "output_type": "execute_result"
    }
   ],
   "source": [
    "rff_df"
   ]
  },
  {
   "cell_type": "code",
   "execution_count": 27,
   "metadata": {},
   "outputs": [
    {
     "ename": "NameError",
     "evalue": "name 'run_nystrom_baseline' is not defined",
     "output_type": "error",
     "traceback": [
      "\u001b[0;31m---------------------------------------------------------------------------\u001b[0m",
      "\u001b[0;31mNameError\u001b[0m                                 Traceback (most recent call last)",
      "Cell \u001b[0;32mIn[27], line 1\u001b[0m\n\u001b[0;32m----> 1\u001b[0m \u001b[43mrun_nystrom_baseline\u001b[49m\n",
      "\u001b[0;31mNameError\u001b[0m: name 'run_nystrom_baseline' is not defined"
     ]
    }
   ],
   "source": [
    "nystrom_baseline_df = measure_and_store_performance(run_nystrom_baseline, p_values, model_name=\"Nystrom_baseline\")"
   ]
  },
  {
   "cell_type": "code",
   "execution_count": 20,
   "metadata": {},
   "outputs": [],
   "source": [
    "def run_baseline_kernel():\n",
    "    # Complete kernel    \n",
    "    gaussian_kernel = GaussianKernel(gamma=1)\n",
    "\n",
    "    # Compute the full kernel matrices\n",
    "    K_train = gaussian_kernel.get_Kxx(X_train)\n",
    "    K_test = gaussian_kernel.get_Kxz(X_train, X_test)\n",
    "\n",
    "    # Train the SVM using the precomputed kernel\n",
    "    svm = SVC(kernel='precomputed', C=1.0, random_state=42)\n",
    "    svm.fit(K_train, y_train)\n",
    "\n",
    "    # Predict on the test set using the precomputed kernel\n",
    "    y_pred = svm.predict(K_test.T)\n",
    "\n",
    "    return accuracy_score(y_test, y_pred), balanced_accuracy_score(y_test, y_pred), f1_score(y_test, y_pred)"
   ]
  },
  {
   "cell_type": "code",
   "execution_count": 21,
   "metadata": {},
   "outputs": [],
   "source": [
    "baseline_mem_usage, baseline_clock_time, scores = measure_performances(run_baseline_kernel)\n",
    "accuracy, balanced_accuracy, f1 = scores[0], scores[1], scores[2]\n",
    "\n",
    "baseline_df = pd.DataFrame([{\n",
    "    'Model': 'Baseline',\n",
    "    'Clock Time (seconds)': baseline_clock_time,\n",
    "    'Memory Usage (MiB)': baseline_mem_usage,\n",
    "    'Accuracy': float(accuracy),\n",
    "    'Balanced Accuracy': float(balanced_accuracy),\n",
    "    'F1 Score': float(f1)\n",
    "}])"
   ]
  },
  {
   "cell_type": "code",
   "execution_count": 22,
   "metadata": {},
   "outputs": [],
   "source": [
    "# Combine both DataFrames\n",
    "nytrsom_vs_baseline = pd.concat([baseline_df, nytrsom_df], ignore_index=True)"
   ]
  },
  {
   "cell_type": "code",
   "execution_count": 23,
   "metadata": {},
   "outputs": [
    {
     "data": {
      "text/html": [
       "<div>\n",
       "<style scoped>\n",
       "    .dataframe tbody tr th:only-of-type {\n",
       "        vertical-align: middle;\n",
       "    }\n",
       "\n",
       "    .dataframe tbody tr th {\n",
       "        vertical-align: top;\n",
       "    }\n",
       "\n",
       "    .dataframe thead th {\n",
       "        text-align: right;\n",
       "    }\n",
       "</style>\n",
       "<table border=\"1\" class=\"dataframe\">\n",
       "  <thead>\n",
       "    <tr style=\"text-align: right;\">\n",
       "      <th></th>\n",
       "      <th>Model</th>\n",
       "      <th>Clock Time (seconds)</th>\n",
       "      <th>Memory Usage (MiB)</th>\n",
       "      <th>Accuracy</th>\n",
       "      <th>Balanced Accuracy</th>\n",
       "      <th>F1 Score</th>\n",
       "      <th>Number of components</th>\n",
       "    </tr>\n",
       "  </thead>\n",
       "  <tbody>\n",
       "    <tr>\n",
       "      <th>0</th>\n",
       "      <td>Baseline</td>\n",
       "      <td>55.964378</td>\n",
       "      <td>161.679688</td>\n",
       "      <td>0.868027</td>\n",
       "      <td>0.723889</td>\n",
       "      <td>0.604082</td>\n",
       "      <td>NaN</td>\n",
       "    </tr>\n",
       "    <tr>\n",
       "      <th>1</th>\n",
       "      <td>Nystrom</td>\n",
       "      <td>0.290232</td>\n",
       "      <td>16.769531</td>\n",
       "      <td>0.787075</td>\n",
       "      <td>0.500000</td>\n",
       "      <td>0.000000</td>\n",
       "      <td>=1</td>\n",
       "    </tr>\n",
       "    <tr>\n",
       "      <th>2</th>\n",
       "      <td>Nystrom</td>\n",
       "      <td>0.279144</td>\n",
       "      <td>8.503906</td>\n",
       "      <td>0.787075</td>\n",
       "      <td>0.500000</td>\n",
       "      <td>0.000000</td>\n",
       "      <td>=10</td>\n",
       "    </tr>\n",
       "    <tr>\n",
       "      <th>3</th>\n",
       "      <td>Nystrom</td>\n",
       "      <td>2.130659</td>\n",
       "      <td>43.105469</td>\n",
       "      <td>0.795238</td>\n",
       "      <td>0.520335</td>\n",
       "      <td>0.079511</td>\n",
       "      <td>=100</td>\n",
       "    </tr>\n",
       "    <tr>\n",
       "      <th>4</th>\n",
       "      <td>Nystrom</td>\n",
       "      <td>27.548565</td>\n",
       "      <td>86.289062</td>\n",
       "      <td>0.821088</td>\n",
       "      <td>0.595021</td>\n",
       "      <td>0.323907</td>\n",
       "      <td>=1000</td>\n",
       "    </tr>\n",
       "    <tr>\n",
       "      <th>5</th>\n",
       "      <td>Nystrom</td>\n",
       "      <td>136.362989</td>\n",
       "      <td>626.566406</td>\n",
       "      <td>0.868027</td>\n",
       "      <td>0.723889</td>\n",
       "      <td>0.604082</td>\n",
       "      <td>=3428</td>\n",
       "    </tr>\n",
       "  </tbody>\n",
       "</table>\n",
       "</div>"
      ],
      "text/plain": [
       "      Model  Clock Time (seconds)  Memory Usage (MiB)  Accuracy  \\\n",
       "0  Baseline             55.964378          161.679688  0.868027   \n",
       "1   Nystrom              0.290232           16.769531  0.787075   \n",
       "2   Nystrom              0.279144            8.503906  0.787075   \n",
       "3   Nystrom              2.130659           43.105469  0.795238   \n",
       "4   Nystrom             27.548565           86.289062  0.821088   \n",
       "5   Nystrom            136.362989          626.566406  0.868027   \n",
       "\n",
       "   Balanced Accuracy  F1 Score Number of components  \n",
       "0           0.723889  0.604082                  NaN  \n",
       "1           0.500000  0.000000                   =1  \n",
       "2           0.500000  0.000000                  =10  \n",
       "3           0.520335  0.079511                 =100  \n",
       "4           0.595021  0.323907                =1000  \n",
       "5           0.723889  0.604082                =3428  "
      ]
     },
     "execution_count": 23,
     "metadata": {},
     "output_type": "execute_result"
    }
   ],
   "source": [
    "nytrsom_vs_baseline"
   ]
  },
  {
   "cell_type": "code",
   "execution_count": 24,
   "metadata": {},
   "outputs": [],
   "source": [
    "# Combine both DataFrames\n",
    "rff_vs_baseline = pd.concat([baseline_df, rff_df], ignore_index=True)"
   ]
  },
  {
   "cell_type": "code",
   "execution_count": 25,
   "metadata": {},
   "outputs": [
    {
     "data": {
      "text/html": [
       "<div>\n",
       "<style scoped>\n",
       "    .dataframe tbody tr th:only-of-type {\n",
       "        vertical-align: middle;\n",
       "    }\n",
       "\n",
       "    .dataframe tbody tr th {\n",
       "        vertical-align: top;\n",
       "    }\n",
       "\n",
       "    .dataframe thead th {\n",
       "        text-align: right;\n",
       "    }\n",
       "</style>\n",
       "<table border=\"1\" class=\"dataframe\">\n",
       "  <thead>\n",
       "    <tr style=\"text-align: right;\">\n",
       "      <th></th>\n",
       "      <th>Model</th>\n",
       "      <th>Clock Time (seconds)</th>\n",
       "      <th>Memory Usage (MiB)</th>\n",
       "      <th>Accuracy</th>\n",
       "      <th>Balanced Accuracy</th>\n",
       "      <th>F1 Score</th>\n",
       "      <th>Number of components</th>\n",
       "    </tr>\n",
       "  </thead>\n",
       "  <tbody>\n",
       "    <tr>\n",
       "      <th>0</th>\n",
       "      <td>Baseline</td>\n",
       "      <td>55.964378</td>\n",
       "      <td>161.679688</td>\n",
       "      <td>0.868027</td>\n",
       "      <td>0.723889</td>\n",
       "      <td>0.604082</td>\n",
       "      <td>NaN</td>\n",
       "    </tr>\n",
       "    <tr>\n",
       "      <th>1</th>\n",
       "      <td>RFF</td>\n",
       "      <td>0.225449</td>\n",
       "      <td>0.000000</td>\n",
       "      <td>0.787075</td>\n",
       "      <td>0.500000</td>\n",
       "      <td>0.000000</td>\n",
       "      <td>=1</td>\n",
       "    </tr>\n",
       "    <tr>\n",
       "      <th>2</th>\n",
       "      <td>RFF</td>\n",
       "      <td>0.268647</td>\n",
       "      <td>0.003906</td>\n",
       "      <td>0.787075</td>\n",
       "      <td>0.500000</td>\n",
       "      <td>0.000000</td>\n",
       "      <td>=10</td>\n",
       "    </tr>\n",
       "    <tr>\n",
       "      <th>3</th>\n",
       "      <td>RFF</td>\n",
       "      <td>0.329239</td>\n",
       "      <td>0.023438</td>\n",
       "      <td>0.787075</td>\n",
       "      <td>0.500000</td>\n",
       "      <td>0.000000</td>\n",
       "      <td>=100</td>\n",
       "    </tr>\n",
       "    <tr>\n",
       "      <th>4</th>\n",
       "      <td>RFF</td>\n",
       "      <td>4.610463</td>\n",
       "      <td>70.644531</td>\n",
       "      <td>0.814966</td>\n",
       "      <td>0.616768</td>\n",
       "      <td>0.384615</td>\n",
       "      <td>=1000</td>\n",
       "    </tr>\n",
       "    <tr>\n",
       "      <th>5</th>\n",
       "      <td>RFF</td>\n",
       "      <td>16.361624</td>\n",
       "      <td>179.101562</td>\n",
       "      <td>0.842857</td>\n",
       "      <td>0.663619</td>\n",
       "      <td>0.487805</td>\n",
       "      <td>=3428</td>\n",
       "    </tr>\n",
       "  </tbody>\n",
       "</table>\n",
       "</div>"
      ],
      "text/plain": [
       "      Model  Clock Time (seconds)  Memory Usage (MiB)  Accuracy  \\\n",
       "0  Baseline             55.964378          161.679688  0.868027   \n",
       "1       RFF              0.225449            0.000000  0.787075   \n",
       "2       RFF              0.268647            0.003906  0.787075   \n",
       "3       RFF              0.329239            0.023438  0.787075   \n",
       "4       RFF              4.610463           70.644531  0.814966   \n",
       "5       RFF             16.361624          179.101562  0.842857   \n",
       "\n",
       "   Balanced Accuracy  F1 Score Number of components  \n",
       "0           0.723889  0.604082                  NaN  \n",
       "1           0.500000  0.000000                   =1  \n",
       "2           0.500000  0.000000                  =10  \n",
       "3           0.500000  0.000000                 =100  \n",
       "4           0.616768  0.384615                =1000  \n",
       "5           0.663619  0.487805                =3428  "
      ]
     },
     "execution_count": 25,
     "metadata": {},
     "output_type": "execute_result"
    }
   ],
   "source": [
    "rff_vs_baseline"
   ]
  }
 ],
 "metadata": {
  "kernelspec": {
   "display_name": ".venv",
   "language": "python",
   "name": "python3"
  },
  "language_info": {
   "codemirror_mode": {
    "name": "ipython",
    "version": 3
   },
   "file_extension": ".py",
   "mimetype": "text/x-python",
   "name": "python",
   "nbconvert_exporter": "python",
   "pygments_lexer": "ipython3",
   "version": "3.10.12"
  }
 },
 "nbformat": 4,
 "nbformat_minor": 2
}
