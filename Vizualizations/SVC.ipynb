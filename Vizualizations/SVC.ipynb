{
 "cells": [
  {
   "cell_type": "markdown",
   "id": "59b0176e-11f2-4675-9daa-308b89ce0459",
   "metadata": {},
   "source": [
    "# Advanced ML Project #"
   ]
  },
  {
   "cell_type": "code",
   "execution_count": 1,
   "id": "1e1193ed-2a26-4e54-9700-f27ecd51e356",
   "metadata": {},
   "outputs": [],
   "source": [
    "import pandas as pd\n",
    "import numpy as np\n",
    "\n",
    "from sklearn.svm import SVC\n",
    "from sklearn.datasets import make_classification \n",
    "from sklearn.model_selection import train_test_split \n",
    "from sklearn.metrics import accuracy_score, balanced_accuracy_score, f1_score\n",
    "\n",
    "from sklearn.kernel_approximation import Nystroem\n",
    "from sklearn.pipeline import Pipeline"
   ]
  },
  {
   "cell_type": "markdown",
   "id": "af03f7a3-81ed-40a7-830c-227d63e972bc",
   "metadata": {},
   "source": [
    "### 1. Preprocessing of the data ###"
   ]
  },
  {
   "cell_type": "code",
   "execution_count": null,
   "id": "39f016a4",
   "metadata": {},
   "outputs": [
    {
     "data": {
      "text/plain": [
       "Index(['fixed acidity', 'volatile acidity', 'citric acid', 'residual sugar',\n",
       "       'chlorides', 'free sulfur dioxide', 'total sulfur dioxide', 'density',\n",
       "       'pH', 'sulphates', 'alcohol', 'quality'],\n",
       "      dtype='object')"
      ]
     },
     "execution_count": 2,
     "metadata": {},
     "output_type": "execute_result"
    }
   ],
   "source": [
    "path = \"winequality-white.csv\"\n",
    "data = pd.read_csv(path, sep=\";\")\n",
    "#print(data.describe())\n",
    "#print(data[\"quality\"].value_counts().sort_index())\n",
    "data.columns"
   ]
  },
  {
   "cell_type": "code",
   "execution_count": 3,
   "id": "fb45e69d-0665-4a53-918b-42411aad584a",
   "metadata": {},
   "outputs": [],
   "source": [
    "# Create binary categories low/high wine quality\n",
    "data[\"quality\"] = np.where(data[\"quality\"] <= 6, -1, 1)\n",
    "\n",
    "# Train/Test split\n",
    "X, y = data.drop(\"quality\", axis=1), data[\"quality\"]\n",
    "X_train, X_test, y_train, y_test = train_test_split(X, y, test_size=0.3, random_state=10)\n",
    "\n",
    "#print(y.value_counts().sort_index())"
   ]
  },
  {
   "cell_type": "markdown",
   "id": "0d2fa977-5f24-4b8c-a556-386a452da9c2",
   "metadata": {},
   "source": [
    "## 2. Binary classification ##"
   ]
  },
  {
   "cell_type": "markdown",
   "id": "ac56cf81-7b12-41c9-9c9f-04c6a9985ba6",
   "metadata": {},
   "source": [
    "### 2.a Classical SVC ###"
   ]
  },
  {
   "cell_type": "code",
   "execution_count": 4,
   "id": "31dca1d0-41f2-416d-a933-782926e4fb81",
   "metadata": {},
   "outputs": [],
   "source": [
    "def evaluate_baseline_model():\n",
    "    # Training\n",
    "    svm_model = SVC(kernel='linear', C=1.0, random_state=10)\n",
    "    svm_model.fit(X_train, y_train)\n",
    "    y_pred = svm_model.predict(X_test)\n",
    "    return y_test, y_pred"
   ]
  },
  {
   "cell_type": "markdown",
   "id": "d80a6bd7-c7f9-4aa2-8bd6-0715c2d66a22",
   "metadata": {},
   "source": [
    "### 2.b Nyström kernel approximation SVC ###"
   ]
  },
  {
   "cell_type": "code",
   "execution_count": 5,
   "id": "691a0e00-1450-4981-b6ce-90dec0338ce6",
   "metadata": {},
   "outputs": [],
   "source": [
    "def evaluate_nystrom_model(p):\n",
    "    # Nyström approximation\n",
    "    nystroem_approx = Nystroem(kernel='rbf', gamma=0.1, n_components=p)\n",
    "\n",
    "    # SVM model\n",
    "    svm_model = SVC(kernel='linear', C=1.0, random_state=10)\n",
    "\n",
    "    # Combine Nystroem and LinearSVC in a pipeline\n",
    "    svc_pipeline = Pipeline([\n",
    "        ('nystroem', nystroem_approx),\n",
    "        ('linear_svm', svm_model)\n",
    "    ])\n",
    "\n",
    "    # Fit\n",
    "    svc_pipeline.fit(X_train, y_train)\n",
    "    y_pred = svc_pipeline.predict(X_test)\n",
    "    return y_test, y_pred"
   ]
  },
  {
   "cell_type": "markdown",
   "id": "4afcb67e",
   "metadata": {},
   "source": [
    "## 3. Results ##"
   ]
  },
  {
   "cell_type": "code",
   "execution_count": 6,
   "id": "662b66d5",
   "metadata": {},
   "outputs": [],
   "source": [
    "import numpy as np\n",
    "import time\n",
    "from memory_profiler import memory_usage"
   ]
  },
  {
   "cell_type": "code",
   "execution_count": 7,
   "id": "643626a7",
   "metadata": {},
   "outputs": [],
   "source": [
    "def measure_performance(func, *args, **kwargs):\n",
    "    \"\"\"\n",
    "    Measure the clock time and memory usage of a function.\n",
    "    \n",
    "    Parameters:\n",
    "    func (callable): The function to measure.\n",
    "    *args: Positional arguments to pass to the function.\n",
    "    **kwargs: Keyword arguments to pass to the function.\n",
    "    \n",
    "    Returns:\n",
    "    result: The result of the function call.\n",
    "    clock_time: The time taken to execute the function (in seconds).\n",
    "    mem_usage: The memory used by the function (in MiB).\n",
    "    \"\"\"\n",
    "    # Measure clock time\n",
    "    start_time = time.time()\n",
    "    # Training of the model\n",
    "    y_test, y_pred = func(*args, **kwargs)\n",
    "    end_time = time.time()\n",
    "    clock_time = end_time - start_time\n",
    "\n",
    "    # Evaluate the performances\n",
    "    accuracy = accuracy_score(y_test, y_pred)\n",
    "    balanced_accuracy = balanced_accuracy_score(y_test, y_pred)\n",
    "    f1 = f1_score(y_test, y_pred)\n",
    "\n",
    "    # # Measure memory usage\n",
    "    mem_usage = memory_usage((func, args, kwargs))\n",
    "    mem_usage = max(mem_usage) - min(mem_usage)\n",
    "    \n",
    "    return accuracy, balanced_accuracy, f1, clock_time, mem_usage"
   ]
  },
  {
   "cell_type": "code",
   "execution_count": 8,
   "id": "0c555584",
   "metadata": {},
   "outputs": [],
   "source": [
    "# Measure performance for evaluate_baseline_model\n",
    "baseline_accuracy, baseline_balanced_accuracy, baseline_f1, baseline_clock_time, baseline_mem_usage \\\n",
    "    = measure_performance(evaluate_baseline_model)\n",
    "baseline_df = pd.DataFrame([{\n",
    "    'Model': 'Baseline',\n",
    "    'Clock Time (seconds)': baseline_clock_time,\n",
    "    'Memory Usage (MiB)': baseline_mem_usage,\n",
    "    'Accuracy': baseline_accuracy,\n",
    "    'Balanced Accuracy': baseline_balanced_accuracy,\n",
    "    'F1 Score': baseline_f1\n",
    "}])"
   ]
  },
  {
   "cell_type": "code",
   "execution_count": 9,
   "id": "7541a270",
   "metadata": {},
   "outputs": [],
   "source": [
    "# Define a function to measure performance and store results in a DataFrame\n",
    "def measure_and_store_performance(model_func, params):\n",
    "    results = []\n",
    "    for param in params:\n",
    "        accuracy, balanced_accuracy, f1, clock_time, mem_usage = measure_performance(model_func, param)\n",
    "        results.append({\n",
    "            'param_name': \"Nystrom p=\" + str(param),\n",
    "            'Clock Time (seconds)': clock_time,\n",
    "            'Memory Usage (MiB)': mem_usage,\n",
    "            'Accuracy': accuracy,\n",
    "            'Balanced Accuracy': balanced_accuracy,\n",
    "            'F1 Score': f1\n",
    "        })\n",
    "    return pd.DataFrame(results)\n",
    "\n",
    "# Measure performance for evaluate_nytrsom_model with different values of p\n",
    "p_values = [1, 10, 100, 1000, 3428] #print(y_train.shape[0]) = 3428\n",
    "nytrsom_df = measure_and_store_performance(evaluate_nystrom_model, p_values)\n",
    "\n",
    "# Combine both DataFrames\n",
    "combined_df = pd.concat([baseline_df, nytrsom_df], ignore_index=True)"
   ]
  },
  {
   "cell_type": "code",
   "execution_count": 12,
   "id": "2f0bbf6f",
   "metadata": {},
   "outputs": [
    {
     "name": "stdout",
     "output_type": "stream",
     "text": [
      "      Model  Clock Time (seconds)  Memory Usage (MiB)  Accuracy  \\\n",
      "0  Baseline             39.043817            9.558594  0.787075   \n",
      "1       NaN              0.105694            1.429688  0.787075   \n",
      "2       NaN              0.122153            5.558594  0.787075   \n",
      "3       NaN              0.415570           11.777344  0.789796   \n",
      "4       NaN              5.995281           64.175781  0.810204   \n",
      "5       NaN             46.173906          536.878906  0.828571   \n",
      "\n",
      "   Balanced Accuracy  F1 Score      param_name  \n",
      "0           0.500000  0.000000             NaN  \n",
      "1           0.500000  0.000000     Nystrom p=1  \n",
      "2           0.500000  0.000000    Nystrom p=10  \n",
      "3           0.506390  0.025237   Nystrom p=100  \n",
      "4           0.576454  0.275325  Nystrom p=1000  \n",
      "5           0.644056  0.444934  Nystrom p=3428  \n"
     ]
    }
   ],
   "source": [
    "print(combined_df)"
   ]
  },
  {
   "cell_type": "code",
   "execution_count": 13,
   "id": "0fa6fe88",
   "metadata": {},
   "outputs": [
    {
     "data": {
      "text/html": [
       "<div>\n",
       "<style scoped>\n",
       "    .dataframe tbody tr th:only-of-type {\n",
       "        vertical-align: middle;\n",
       "    }\n",
       "\n",
       "    .dataframe tbody tr th {\n",
       "        vertical-align: top;\n",
       "    }\n",
       "\n",
       "    .dataframe thead th {\n",
       "        text-align: right;\n",
       "    }\n",
       "</style>\n",
       "<table border=\"1\" class=\"dataframe\">\n",
       "  <thead>\n",
       "    <tr style=\"text-align: right;\">\n",
       "      <th></th>\n",
       "      <th>Model</th>\n",
       "      <th>Clock Time (seconds)</th>\n",
       "      <th>Memory Usage (MiB)</th>\n",
       "      <th>Accuracy</th>\n",
       "      <th>Balanced Accuracy</th>\n",
       "      <th>F1 Score</th>\n",
       "      <th>param_name</th>\n",
       "    </tr>\n",
       "  </thead>\n",
       "  <tbody>\n",
       "    <tr>\n",
       "      <th>0</th>\n",
       "      <td>Baseline</td>\n",
       "      <td>39.043817</td>\n",
       "      <td>9.558594</td>\n",
       "      <td>0.787075</td>\n",
       "      <td>0.500000</td>\n",
       "      <td>0.000000</td>\n",
       "      <td>NaN</td>\n",
       "    </tr>\n",
       "    <tr>\n",
       "      <th>1</th>\n",
       "      <td>NaN</td>\n",
       "      <td>0.105694</td>\n",
       "      <td>1.429688</td>\n",
       "      <td>0.787075</td>\n",
       "      <td>0.500000</td>\n",
       "      <td>0.000000</td>\n",
       "      <td>Nystrom p=1</td>\n",
       "    </tr>\n",
       "    <tr>\n",
       "      <th>2</th>\n",
       "      <td>NaN</td>\n",
       "      <td>0.122153</td>\n",
       "      <td>5.558594</td>\n",
       "      <td>0.787075</td>\n",
       "      <td>0.500000</td>\n",
       "      <td>0.000000</td>\n",
       "      <td>Nystrom p=10</td>\n",
       "    </tr>\n",
       "    <tr>\n",
       "      <th>3</th>\n",
       "      <td>NaN</td>\n",
       "      <td>0.415570</td>\n",
       "      <td>11.777344</td>\n",
       "      <td>0.789796</td>\n",
       "      <td>0.506390</td>\n",
       "      <td>0.025237</td>\n",
       "      <td>Nystrom p=100</td>\n",
       "    </tr>\n",
       "    <tr>\n",
       "      <th>4</th>\n",
       "      <td>NaN</td>\n",
       "      <td>5.995281</td>\n",
       "      <td>64.175781</td>\n",
       "      <td>0.810204</td>\n",
       "      <td>0.576454</td>\n",
       "      <td>0.275325</td>\n",
       "      <td>Nystrom p=1000</td>\n",
       "    </tr>\n",
       "    <tr>\n",
       "      <th>5</th>\n",
       "      <td>NaN</td>\n",
       "      <td>46.173906</td>\n",
       "      <td>536.878906</td>\n",
       "      <td>0.828571</td>\n",
       "      <td>0.644056</td>\n",
       "      <td>0.444934</td>\n",
       "      <td>Nystrom p=3428</td>\n",
       "    </tr>\n",
       "  </tbody>\n",
       "</table>\n",
       "</div>"
      ],
      "text/plain": [
       "      Model  Clock Time (seconds)  Memory Usage (MiB)  Accuracy  \\\n",
       "0  Baseline             39.043817            9.558594  0.787075   \n",
       "1       NaN              0.105694            1.429688  0.787075   \n",
       "2       NaN              0.122153            5.558594  0.787075   \n",
       "3       NaN              0.415570           11.777344  0.789796   \n",
       "4       NaN              5.995281           64.175781  0.810204   \n",
       "5       NaN             46.173906          536.878906  0.828571   \n",
       "\n",
       "   Balanced Accuracy  F1 Score      param_name  \n",
       "0           0.500000  0.000000             NaN  \n",
       "1           0.500000  0.000000     Nystrom p=1  \n",
       "2           0.500000  0.000000    Nystrom p=10  \n",
       "3           0.506390  0.025237   Nystrom p=100  \n",
       "4           0.576454  0.275325  Nystrom p=1000  \n",
       "5           0.644056  0.444934  Nystrom p=3428  "
      ]
     },
     "execution_count": 13,
     "metadata": {},
     "output_type": "execute_result"
    }
   ],
   "source": [
    "combined_df"
   ]
  },
  {
   "cell_type": "code",
   "execution_count": 16,
   "id": "edb4f3ab",
   "metadata": {},
   "outputs": [],
   "source": [
    "output_path = \"winequality-white_results.csv\"\n",
    "combined_df.to_csv(output_path, index=False)"
   ]
  }
 ],
 "metadata": {
  "kernelspec": {
   "display_name": ".venv",
   "language": "python",
   "name": "python3"
  },
  "language_info": {
   "codemirror_mode": {
    "name": "ipython",
    "version": 3
   },
   "file_extension": ".py",
   "mimetype": "text/x-python",
   "name": "python",
   "nbconvert_exporter": "python",
   "pygments_lexer": "ipython3",
   "version": "3.10.12"
  }
 },
 "nbformat": 4,
 "nbformat_minor": 5
}
